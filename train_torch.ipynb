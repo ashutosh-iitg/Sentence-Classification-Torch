{
 "cells": [
  {
   "cell_type": "code",
   "execution_count": 1,
   "metadata": {},
   "outputs": [
    {
     "name": "stderr",
     "output_type": "stream",
     "text": [
      "/Users/ashutosh/Projects/venv-text/lib/python3.9/site-packages/urllib3/__init__.py:35: NotOpenSSLWarning: urllib3 v2 only supports OpenSSL 1.1.1+, currently the 'ssl' module is compiled with 'LibreSSL 2.8.3'. See: https://github.com/urllib3/urllib3/issues/3020\n",
      "  warnings.warn(\n"
     ]
    }
   ],
   "source": [
    "import os\n",
    "from collections import defaultdict\n",
    "\n",
    "import pandas as pd\n",
    "import numpy as np\n",
    "import torch\n",
    "import math\n",
    "import seaborn as sns\n",
    "import matplotlib.pyplot as plt\n",
    "\n",
    "from sklearn.model_selection import train_test_split\n",
    "from sklearn.metrics import f1_score, accuracy_score\n",
    "from transformers import (AutoTokenizer, AutoModelForSequenceClassification,\n",
    "                          Trainer, TrainingArguments, get_scheduler, DistilBertModel, DistilBertConfig)\n",
    "\n",
    "from torch.utils.data import DataLoader\n",
    "from torch.optim import AdamW\n",
    "\n",
    "from tqdm.auto import tqdm\n",
    "\n",
    "import warnings\n",
    "warnings.filterwarnings('ignore')"
   ]
  },
  {
   "cell_type": "markdown",
   "metadata": {},
   "source": [
    "### Data Loading and Preprocessing"
   ]
  },
  {
   "cell_type": "code",
   "execution_count": 2,
   "metadata": {},
   "outputs": [
    {
     "data": {
      "text/plain": [
       "['data/20k_abstracts_numbers_with_@',\n",
       " 'data/20k_abstracts',\n",
       " 'data/Numbers_replaced_with_@',\n",
       " 'data/200k_abstracts']"
      ]
     },
     "execution_count": 2,
     "metadata": {},
     "output_type": "execute_result"
    }
   ],
   "source": [
    "root_dir = 'data'\n",
    "data_dirs = [f'{root_dir}/{filename}' for filename in os.listdir(root_dir)]\n",
    "data_dirs"
   ]
  },
  {
   "cell_type": "code",
   "execution_count": 3,
   "metadata": {},
   "outputs": [],
   "source": [
    "def get_lines(filename):\n",
    "    \"\"\"\n",
    "    Reads the contents of a file and returns a list of lines.\n",
    "    Parameters:\n",
    "    filename (str): The path of the file to be read.\n",
    "    Returns:\n",
    "    list: A list of lines read from the file.\n",
    "    \"\"\"\n",
    "\n",
    "    with open(filename, 'r') as file:\n",
    "        lines = file.readlines()\n",
    "    return lines"
   ]
  },
  {
   "cell_type": "code",
   "execution_count": 4,
   "metadata": {},
   "outputs": [
    {
     "data": {
      "text/plain": [
       "['###24293578\\n',\n",
       " 'OBJECTIVE\\tTo investigate the efficacy of 6 weeks of daily low-dose oral prednisolone in improving pain , mobility , and systemic low-grade inflammation in the short term and whether the effect would be sustained at 12 weeks in older adults with moderate to severe knee osteoarthritis ( OA ) .\\n',\n",
       " 'METHODS\\tA total of 125 patients with primary knee OA were randomized 1:1 ; 63 received 7.5 mg/day of prednisolone and 62 received placebo for 6 weeks .\\n',\n",
       " 'METHODS\\tOutcome measures included pain reduction and improvement in function scores and systemic inflammation markers .\\n',\n",
       " 'METHODS\\tPain was assessed using the visual analog pain scale ( 0-100 mm ) .\\n',\n",
       " 'METHODS\\tSecondary outcome measures included the Western Ontario and McMaster Universities Osteoarthritis Index scores , patient global assessment ( PGA ) of the severity of knee OA , and 6-min walk distance ( 6MWD ) .\\n',\n",
       " 'METHODS\\tSerum levels of interleukin 1 ( IL-1 ) , IL-6 , tumor necrosis factor ( TNF ) - , and high-sensitivity C-reactive protein ( hsCRP ) were measured .\\n',\n",
       " 'RESULTS\\tThere was a clinically relevant reduction in the intervention group compared to the placebo group for knee pain , physical function , PGA , and 6MWD at 6 weeks .\\n',\n",
       " 'RESULTS\\tThe mean difference between treatment arms ( 95 % CI ) was 10.9 ( 4.8-18 .0 ) , p < 0.001 ; 9.5 ( 3.7-15 .4 ) , p < 0.05 ; 15.7 ( 5.3-26 .1 ) , p < 0.001 ; and 86.9 ( 29.8-144 .1 ) , p < 0.05 , respectively .\\n',\n",
       " 'RESULTS\\tFurther , there was a clinically relevant reduction in the serum levels of IL-1 , IL-6 , TNF - , and hsCRP at 6 weeks in the intervention group when compared to the placebo group .\\n',\n",
       " 'RESULTS\\tThese differences remained significant at 12 weeks .\\n',\n",
       " 'RESULTS\\tThe Outcome Measures in Rheumatology Clinical Trials-Osteoarthritis Research Society International responder rate was 65 % in the intervention group and 34 % in the placebo group ( p < 0.05 ) .\\n',\n",
       " 'CONCLUSIONS\\tLow-dose oral prednisolone had both a short-term and a longer sustained effect resulting in less knee pain , better physical function , and attenuation of systemic inflammation in older patients with knee OA ( ClinicalTrials.gov identifier NCT01619163 ) .\\n',\n",
       " '\\n',\n",
       " '###24854809\\n',\n",
       " 'BACKGROUND\\tEmotional eating is associated with overeating and the development of obesity .\\n',\n",
       " 'BACKGROUND\\tYet , empirical evidence for individual ( trait ) differences in emotional eating and cognitive mechanisms that contribute to eating during sad mood remain equivocal .\\n',\n",
       " 'OBJECTIVE\\tThe aim of this study was to test if attention bias for food moderates the effect of self-reported emotional eating during sad mood ( vs neutral mood ) on actual food intake .\\n',\n",
       " 'OBJECTIVE\\tIt was expected that emotional eating is predictive of elevated attention for food and higher food intake after an experimentally induced sad mood and that attentional maintenance on food predicts food intake during a sad versus a neutral mood .\\n',\n",
       " 'METHODS\\tParticipants ( N = 85 ) were randomly assigned to one of the two experimental mood induction conditions ( sad/neutral ) .\\n']"
      ]
     },
     "execution_count": 4,
     "metadata": {},
     "output_type": "execute_result"
    }
   ],
   "source": [
    "train_lines = get_lines(f'{root_dir}/20k_abstracts/train.txt')\n",
    "train_lines[:20]"
   ]
  },
  {
   "cell_type": "code",
   "execution_count": 5,
   "metadata": {},
   "outputs": [],
   "source": [
    "def preprocess_text(filename):\n",
    "    \"\"\"\n",
    "    Preprocesses the text from a given file and returns a pandas DataFrame containing the processed data.\n",
    "    Parameters:\n",
    "    - filename (str): The path to the file containing the text data.\n",
    "    Returns:\n",
    "    - pandas.DataFrame: A DataFrame containing the processed data with the following columns:\n",
    "        - 'abstract_id': The ID of the abstract.\n",
    "        - 'line_number': The line number of the text within the abstract.\n",
    "        - 'target': The target label.\n",
    "        - 'text': The processed text.\n",
    "        - 'total_lines': The total number of lines in the abstract.\n",
    "    \"\"\"\n",
    "\n",
    "    lines = get_lines(filename)\n",
    "    abstract_lines = \"\"\n",
    "    abstract_samples = []\n",
    "\n",
    "    for line in lines:\n",
    "        if line.startswith(\"###\"):\n",
    "            abstract_id = int(line.strip(\"#\").strip())\n",
    "            abstract_lines = \"\"\n",
    "        elif line.isspace():\n",
    "            abstract_line_split = abstract_lines.splitlines()\n",
    "            for line_num, abstract_line in enumerate(abstract_line_split):\n",
    "                line_data = {}\n",
    "                target_text_split = abstract_line.split(\"\\t\")\n",
    "                line_data['abstract_id'] = abstract_id\n",
    "                line_data['line_number'] = line_num\n",
    "                line_data['target'] = target_text_split[0]\n",
    "                line_data['text'] = target_text_split[1].lower()\n",
    "                line_data['total_lines'] = len(abstract_line_split)\n",
    "                abstract_samples.append(line_data)\n",
    "        else:\n",
    "            abstract_lines += line\n",
    "\n",
    "    return pd.DataFrame(abstract_samples)"
   ]
  },
  {
   "cell_type": "code",
   "execution_count": 6,
   "metadata": {},
   "outputs": [
    {
     "data": {
      "text/plain": [
       "(180040, 30212, 30135)"
      ]
     },
     "execution_count": 6,
     "metadata": {},
     "output_type": "execute_result"
    }
   ],
   "source": [
    "train_data = preprocess_text(f'{root_dir}/20k_abstracts/train.txt')\n",
    "val_data = preprocess_text(f'{root_dir}/20k_abstracts/dev.txt')\n",
    "test_data = preprocess_text(f'{root_dir}/20k_abstracts/test.txt')\n",
    "len(train_data), len(val_data), len(test_data)"
   ]
  },
  {
   "cell_type": "code",
   "execution_count": 7,
   "metadata": {},
   "outputs": [
    {
     "data": {
      "text/html": [
       "<div>\n",
       "<style scoped>\n",
       "    .dataframe tbody tr th:only-of-type {\n",
       "        vertical-align: middle;\n",
       "    }\n",
       "\n",
       "    .dataframe tbody tr th {\n",
       "        vertical-align: top;\n",
       "    }\n",
       "\n",
       "    .dataframe thead th {\n",
       "        text-align: right;\n",
       "    }\n",
       "</style>\n",
       "<table border=\"1\" class=\"dataframe\">\n",
       "  <thead>\n",
       "    <tr style=\"text-align: right;\">\n",
       "      <th></th>\n",
       "      <th>abstract_id</th>\n",
       "      <th>line_number</th>\n",
       "      <th>target</th>\n",
       "      <th>text</th>\n",
       "      <th>total_lines</th>\n",
       "    </tr>\n",
       "  </thead>\n",
       "  <tbody>\n",
       "    <tr>\n",
       "      <th>0</th>\n",
       "      <td>24293578</td>\n",
       "      <td>0</td>\n",
       "      <td>OBJECTIVE</td>\n",
       "      <td>to investigate the efficacy of 6 weeks of dail...</td>\n",
       "      <td>12</td>\n",
       "    </tr>\n",
       "    <tr>\n",
       "      <th>1</th>\n",
       "      <td>24293578</td>\n",
       "      <td>1</td>\n",
       "      <td>METHODS</td>\n",
       "      <td>a total of 125 patients with primary knee oa w...</td>\n",
       "      <td>12</td>\n",
       "    </tr>\n",
       "    <tr>\n",
       "      <th>2</th>\n",
       "      <td>24293578</td>\n",
       "      <td>2</td>\n",
       "      <td>METHODS</td>\n",
       "      <td>outcome measures included pain reduction and i...</td>\n",
       "      <td>12</td>\n",
       "    </tr>\n",
       "    <tr>\n",
       "      <th>3</th>\n",
       "      <td>24293578</td>\n",
       "      <td>3</td>\n",
       "      <td>METHODS</td>\n",
       "      <td>pain was assessed using the visual analog pain...</td>\n",
       "      <td>12</td>\n",
       "    </tr>\n",
       "    <tr>\n",
       "      <th>4</th>\n",
       "      <td>24293578</td>\n",
       "      <td>4</td>\n",
       "      <td>METHODS</td>\n",
       "      <td>secondary outcome measures included the wester...</td>\n",
       "      <td>12</td>\n",
       "    </tr>\n",
       "    <tr>\n",
       "      <th>5</th>\n",
       "      <td>24293578</td>\n",
       "      <td>5</td>\n",
       "      <td>METHODS</td>\n",
       "      <td>serum levels of interleukin 1 ( il-1 ) , il-6 ...</td>\n",
       "      <td>12</td>\n",
       "    </tr>\n",
       "    <tr>\n",
       "      <th>6</th>\n",
       "      <td>24293578</td>\n",
       "      <td>6</td>\n",
       "      <td>RESULTS</td>\n",
       "      <td>there was a clinically relevant reduction in t...</td>\n",
       "      <td>12</td>\n",
       "    </tr>\n",
       "    <tr>\n",
       "      <th>7</th>\n",
       "      <td>24293578</td>\n",
       "      <td>7</td>\n",
       "      <td>RESULTS</td>\n",
       "      <td>the mean difference between treatment arms ( 9...</td>\n",
       "      <td>12</td>\n",
       "    </tr>\n",
       "    <tr>\n",
       "      <th>8</th>\n",
       "      <td>24293578</td>\n",
       "      <td>8</td>\n",
       "      <td>RESULTS</td>\n",
       "      <td>further , there was a clinically relevant redu...</td>\n",
       "      <td>12</td>\n",
       "    </tr>\n",
       "    <tr>\n",
       "      <th>9</th>\n",
       "      <td>24293578</td>\n",
       "      <td>9</td>\n",
       "      <td>RESULTS</td>\n",
       "      <td>these differences remained significant at 12 w...</td>\n",
       "      <td>12</td>\n",
       "    </tr>\n",
       "    <tr>\n",
       "      <th>10</th>\n",
       "      <td>24293578</td>\n",
       "      <td>10</td>\n",
       "      <td>RESULTS</td>\n",
       "      <td>the outcome measures in rheumatology clinical ...</td>\n",
       "      <td>12</td>\n",
       "    </tr>\n",
       "    <tr>\n",
       "      <th>11</th>\n",
       "      <td>24293578</td>\n",
       "      <td>11</td>\n",
       "      <td>CONCLUSIONS</td>\n",
       "      <td>low-dose oral prednisolone had both a short-te...</td>\n",
       "      <td>12</td>\n",
       "    </tr>\n",
       "    <tr>\n",
       "      <th>12</th>\n",
       "      <td>24854809</td>\n",
       "      <td>0</td>\n",
       "      <td>BACKGROUND</td>\n",
       "      <td>emotional eating is associated with overeating...</td>\n",
       "      <td>11</td>\n",
       "    </tr>\n",
       "    <tr>\n",
       "      <th>13</th>\n",
       "      <td>24854809</td>\n",
       "      <td>1</td>\n",
       "      <td>BACKGROUND</td>\n",
       "      <td>yet , empirical evidence for individual ( trai...</td>\n",
       "      <td>11</td>\n",
       "    </tr>\n",
       "    <tr>\n",
       "      <th>14</th>\n",
       "      <td>24854809</td>\n",
       "      <td>2</td>\n",
       "      <td>OBJECTIVE</td>\n",
       "      <td>the aim of this study was to test if attention...</td>\n",
       "      <td>11</td>\n",
       "    </tr>\n",
       "  </tbody>\n",
       "</table>\n",
       "</div>"
      ],
      "text/plain": [
       "    abstract_id  line_number       target  \\\n",
       "0      24293578            0    OBJECTIVE   \n",
       "1      24293578            1      METHODS   \n",
       "2      24293578            2      METHODS   \n",
       "3      24293578            3      METHODS   \n",
       "4      24293578            4      METHODS   \n",
       "5      24293578            5      METHODS   \n",
       "6      24293578            6      RESULTS   \n",
       "7      24293578            7      RESULTS   \n",
       "8      24293578            8      RESULTS   \n",
       "9      24293578            9      RESULTS   \n",
       "10     24293578           10      RESULTS   \n",
       "11     24293578           11  CONCLUSIONS   \n",
       "12     24854809            0   BACKGROUND   \n",
       "13     24854809            1   BACKGROUND   \n",
       "14     24854809            2    OBJECTIVE   \n",
       "\n",
       "                                                 text  total_lines  \n",
       "0   to investigate the efficacy of 6 weeks of dail...           12  \n",
       "1   a total of 125 patients with primary knee oa w...           12  \n",
       "2   outcome measures included pain reduction and i...           12  \n",
       "3   pain was assessed using the visual analog pain...           12  \n",
       "4   secondary outcome measures included the wester...           12  \n",
       "5   serum levels of interleukin 1 ( il-1 ) , il-6 ...           12  \n",
       "6   there was a clinically relevant reduction in t...           12  \n",
       "7   the mean difference between treatment arms ( 9...           12  \n",
       "8   further , there was a clinically relevant redu...           12  \n",
       "9   these differences remained significant at 12 w...           12  \n",
       "10  the outcome measures in rheumatology clinical ...           12  \n",
       "11  low-dose oral prednisolone had both a short-te...           12  \n",
       "12  emotional eating is associated with overeating...           11  \n",
       "13  yet , empirical evidence for individual ( trai...           11  \n",
       "14  the aim of this study was to test if attention...           11  "
      ]
     },
     "execution_count": 7,
     "metadata": {},
     "output_type": "execute_result"
    }
   ],
   "source": [
    "train_data.head(15)"
   ]
  },
  {
   "cell_type": "code",
   "execution_count": 8,
   "metadata": {},
   "outputs": [],
   "source": [
    "# take a sample of data for training locally\n",
    "train_data = train_data.sample(10000, random_state=42)\n",
    "test_data = test_data.sample(2000, random_state=42)\n",
    "val_data = val_data.sample(2000, random_state=42)"
   ]
  },
  {
   "cell_type": "code",
   "execution_count": 9,
   "metadata": {},
   "outputs": [
    {
     "name": "stdout",
     "output_type": "stream",
     "text": [
      "target\n",
      "METHODS        3286\n",
      "RESULTS        3227\n",
      "CONCLUSIONS    1509\n",
      "BACKGROUND     1228\n",
      "OBJECTIVE       750\n",
      "Name: count, dtype: int64\n"
     ]
    },
    {
     "data": {
      "text/plain": [
       "<Axes: xlabel='target'>"
      ]
     },
     "execution_count": 9,
     "metadata": {},
     "output_type": "execute_result"
    },
    {
     "data": {
      "image/png": "[encoded data removed]",
      "text/plain": [
       "<Figure size 640x480 with 1 Axes>"
      ]
     },
     "metadata": {},
     "output_type": "display_data"
    }
   ],
   "source": [
    "print(train_data['target'].value_counts())\n",
    "train_data['target'].value_counts().plot(kind='bar')"
   ]
  },
  {
   "cell_type": "code",
   "execution_count": 10,
   "metadata": {},
   "outputs": [
    {
     "data": {
      "text/plain": [
       "<Axes: ylabel='Frequency'>"
      ]
     },
     "execution_count": 10,
     "metadata": {},
     "output_type": "execute_result"
    },
    {
     "data": {
      "image/png": "[encoded data removed]",
      "text/plain": [
       "<Figure size 640x480 with 1 Axes>"
      ]
     },
     "metadata": {},
     "output_type": "display_data"
    }
   ],
   "source": [
    "train_data['text'].apply(lambda x: len(x.split())).plot(kind='hist', bins=50)"
   ]
  },
  {
   "cell_type": "code",
   "execution_count": 11,
   "metadata": {},
   "outputs": [
    {
     "data": {
      "text/plain": [
       "<Axes: ylabel='Frequency'>"
      ]
     },
     "execution_count": 11,
     "metadata": {},
     "output_type": "execute_result"
    },
    {
     "data": {
      "image/png": "[encoded data removed]",
      "text/plain": [
       "<Figure size 640x480 with 1 Axes>"
      ]
     },
     "metadata": {},
     "output_type": "display_data"
    }
   ],
   "source": [
    "train_data['total_lines'].plot(kind='hist', bins=15)"
   ]
  },
  {
   "cell_type": "code",
   "execution_count": 12,
   "metadata": {},
   "outputs": [
    {
     "name": "stdout",
     "output_type": "stream",
     "text": [
      "abstract_id    0\n",
      "line_number    0\n",
      "target         0\n",
      "text           0\n",
      "total_lines    0\n",
      "dtype: int64\n",
      "abstract_id    0\n",
      "line_number    0\n",
      "target         0\n",
      "text           0\n",
      "total_lines    0\n",
      "dtype: int64\n"
     ]
    }
   ],
   "source": [
    "print(train_data.isnull().sum())\n",
    "print(val_data.isnull().sum())"
   ]
  },
  {
   "cell_type": "code",
   "execution_count": 13,
   "metadata": {},
   "outputs": [
    {
     "data": {
      "text/plain": [
       "{'RESULTS': 0, 'METHODS': 1, 'CONCLUSIONS': 2, 'BACKGROUND': 3, 'OBJECTIVE': 4}"
      ]
     },
     "execution_count": 13,
     "metadata": {},
     "output_type": "execute_result"
    }
   ],
   "source": [
    "target_to_idx = {target: idx for idx, target in enumerate(train_data['target'].unique())}\n",
    "target_to_idx"
   ]
  },
  {
   "cell_type": "code",
   "execution_count": 14,
   "metadata": {},
   "outputs": [],
   "source": [
    "train_data['target'] = train_data['target'].apply(lambda x: target_to_idx[x])\n",
    "val_data['target'] = val_data['target'].apply(lambda x: target_to_idx[x])\n",
    "test_data['target'] = test_data['target'].apply(lambda x: target_to_idx[x])"
   ]
  },
  {
   "cell_type": "code",
   "execution_count": 15,
   "metadata": {},
   "outputs": [],
   "source": [
    "model_ckpt = 'distilbert/distilbert-base-uncased'\n",
    "tokenizer = AutoTokenizer.from_pretrained(pretrained_model_name_or_path=model_ckpt, use_fast=True)"
   ]
  },
  {
   "cell_type": "code",
   "execution_count": 16,
   "metadata": {},
   "outputs": [],
   "source": [
    "def make_dataset(data_encodings):\n",
    "    \"\"\"\n",
    "    Create a dataset from the given data encodings.\n",
    "    Parameters:\n",
    "    - data_encodings (dict): A dictionary containing the data encodings.\n",
    "    Returns:\n",
    "    - list: A list of dictionaries, where each dictionary contains the key-value pairs from the data encodings.\n",
    "    \"\"\"\n",
    "    return [{k: v[i] for k, v in data_encodings.items()} for i in range(len(data_encodings.input_ids))]"
   ]
  },
  {
   "cell_type": "code",
   "execution_count": 17,
   "metadata": {},
   "outputs": [],
   "source": [
    "tokenized_train = tokenizer(train_data['text'].tolist(), padding=True, truncation=True, return_tensors='pt')\n",
    "tokenized_train['labels'] = torch.tensor(train_data['target'].tolist())\n",
    "tokenized_train = make_dataset(tokenized_train)\n",
    "\n",
    "tokenized_val = tokenizer(val_data['text'].tolist(), padding=True, truncation=True, return_tensors='pt')\n",
    "tokenized_val['labels'] = torch.tensor(val_data['target'].tolist())\n",
    "tokenized_val = make_dataset(tokenized_val)\n",
    "\n",
    "tokenized_test = tokenizer(test_data['text'].tolist(), padding=True, truncation=True, return_tensors='pt')\n",
    "tokenized_test['labels'] = torch.tensor(test_data['target'].tolist())\n",
    "tokenized_test = make_dataset(tokenized_test)"
   ]
  },
  {
   "cell_type": "markdown",
   "metadata": {},
   "source": [
    "### Utility Functions"
   ]
  },
  {
   "cell_type": "code",
   "execution_count": 18,
   "metadata": {},
   "outputs": [],
   "source": [
    "def compute_metrics(preds, labels):\n",
    "    \"\"\"\n",
    "    Compute evaluation metrics for the given predictions.\n",
    "    Args:\n",
    "        preds (list): A list containing the model predictions.\n",
    "        labels (list): A list containing the true labels.\n",
    "    Returns:\n",
    "        dict: A dictionary containing the computed evaluation metrics.\n",
    "            - 'accuracy': The accuracy score.\n",
    "            - 'f1': The weighted F1 score.\n",
    "    \"\"\"\n",
    "    \n",
    "    f1 = f1_score(y_true=labels, y_pred=preds, average='weighted')\n",
    "    acc = accuracy_score(y_true=labels, y_pred=preds)\n",
    "    return {'accuracy': acc, 'f1': f1}"
   ]
  },
  {
   "cell_type": "code",
   "execution_count": 19,
   "metadata": {},
   "outputs": [],
   "source": [
    "from typing import Any\n",
    "\n",
    "\n",
    "class MetricMonitor:\n",
    "    \"\"\"\n",
    "    A class for monitoring and calculating metrics.\n",
    "    Attributes:\n",
    "        float_precision (int): The precision of floating point numbers.\n",
    "    Methods:\n",
    "        __init__(self, float_precision=4): Initializes the MetricMonitor object.\n",
    "        reset(self): Resets the metrics.\n",
    "        update(self, **kargs): Updates the metrics with new values.\n",
    "        __str__(self): Returns a string representation of the metrics.\n",
    "        __call__(self, *args: Any, **kwds: Any) -> Any: Returns the metrics as a dictionary.\n",
    "        getinfo(self): Returns the metrics.\n",
    "    \"\"\"\n",
    "\n",
    "    def __init__(self, float_precision=4):\n",
    "        self.float_precision = float_precision\n",
    "        self.reset()\n",
    "\n",
    "    def reset(self):\n",
    "        self.metrics = defaultdict(lambda: {\"val\": 0, \"count\": 0, \"avg\": 0})\n",
    "\n",
    "    def update(self, **kargs):\n",
    "        for key, value in kargs.items():\n",
    "            metric = self.metrics[key]\n",
    "            \n",
    "            metric[\"val\"] += value\n",
    "            metric[\"count\"] += 1\n",
    "            metric[\"avg\"] = metric[\"val\"] / metric[\"count\"]\n",
    "\n",
    "    def __str__(self):\n",
    "        return \" | \".join(\n",
    "            [\n",
    "                \"{metric_name}: {avg:.{float_precision}f}\".format(\n",
    "                    metric_name=key, avg=metric[\"avg\"], float_precision=self.float_precision\n",
    "                )\n",
    "                for key, metric in self.metrics.items()\n",
    "            ]\n",
    "        )\n",
    "    \n",
    "    def __call__(self, *args: Any, **kwds: Any) -> Any:\n",
    "        return {key: metric[\"avg\"] for key, metric in self.metrics.items()}\n",
    "    \n",
    "    def getinfo(self):\n",
    "        return self.metrics"
   ]
  },
  {
   "cell_type": "code",
   "execution_count": 20,
   "metadata": {},
   "outputs": [],
   "source": [
    "def load_dataloader(data, split='train', batch_size=16):\n",
    "    \"\"\"\n",
    "    Load a PyTorch DataLoader for the given data.\n",
    "    Parameters:\n",
    "    - data: The dataset to load into the DataLoader.\n",
    "    - split: The split of the data to load. Default is 'train'.\n",
    "    - batch_size: The batch size for the DataLoader. Default is 16.\n",
    "    Returns:\n",
    "    - A PyTorch DataLoader object.\n",
    "    \"\"\"\n",
    "\n",
    "    if split == 'train':\n",
    "        return DataLoader(data, batch_size=batch_size, shuffle=True)\n",
    "    else:\n",
    "        return DataLoader(data, batch_size=batch_size)"
   ]
  },
  {
   "cell_type": "markdown",
   "metadata": {},
   "source": [
    "### Initializing model and its parameters"
   ]
  },
  {
   "cell_type": "code",
   "execution_count": 21,
   "metadata": {},
   "outputs": [
    {
     "name": "stderr",
     "output_type": "stream",
     "text": [
      "Some weights of DistilBertForSequenceClassification were not initialized from the model checkpoint at distilbert/distilbert-base-uncased and are newly initialized: ['classifier.bias', 'classifier.weight', 'pre_classifier.bias', 'pre_classifier.weight']\n",
      "You should probably TRAIN this model on a down-stream task to be able to use it for predictions and inference.\n"
     ]
    }
   ],
   "source": [
    "model = AutoModelForSequenceClassification.from_pretrained(model_ckpt, num_labels=len(target_to_idx), label2id=target_to_idx, id2label={idx: target for target, idx in target_to_idx.items()})\n",
    "optimizer = AdamW(model.parameters(), lr=5e-5)\n",
    "device = torch.device('cuda' if torch.cuda.is_available() else 'mps')\n",
    "epochs = 2\n",
    "batch_size = 16"
   ]
  },
  {
   "cell_type": "code",
   "execution_count": 22,
   "metadata": {},
   "outputs": [],
   "source": [
    "train_dl = load_dataloader(tokenized_train, split='train', batch_size=batch_size)\n",
    "val_dl = load_dataloader(tokenized_val, split='val', batch_size=batch_size)\n",
    "# next(iter(train_dl))"
   ]
  },
  {
   "cell_type": "code",
   "execution_count": 23,
   "metadata": {},
   "outputs": [
    {
     "name": "stdout",
     "output_type": "stream",
     "text": [
      "1250\n"
     ]
    },
    {
     "data": {
      "text/plain": [
       "DistilBertForSequenceClassification(\n",
       "  (distilbert): DistilBertModel(\n",
       "    (embeddings): Embeddings(\n",
       "      (word_embeddings): Embedding(30522, 768, padding_idx=0)\n",
       "      (position_embeddings): Embedding(512, 768)\n",
       "      (LayerNorm): LayerNorm((768,), eps=1e-12, elementwise_affine=True)\n",
       "      (dropout): Dropout(p=0.1, inplace=False)\n",
       "    )\n",
       "    (transformer): Transformer(\n",
       "      (layer): ModuleList(\n",
       "        (0-5): 6 x TransformerBlock(\n",
       "          (attention): MultiHeadSelfAttention(\n",
       "            (dropout): Dropout(p=0.1, inplace=False)\n",
       "            (q_lin): Linear(in_features=768, out_features=768, bias=True)\n",
       "            (k_lin): Linear(in_features=768, out_features=768, bias=True)\n",
       "            (v_lin): Linear(in_features=768, out_features=768, bias=True)\n",
       "            (out_lin): Linear(in_features=768, out_features=768, bias=True)\n",
       "          )\n",
       "          (sa_layer_norm): LayerNorm((768,), eps=1e-12, elementwise_affine=True)\n",
       "          (ffn): FFN(\n",
       "            (dropout): Dropout(p=0.1, inplace=False)\n",
       "            (lin1): Linear(in_features=768, out_features=3072, bias=True)\n",
       "            (lin2): Linear(in_features=3072, out_features=768, bias=True)\n",
       "            (activation): GELUActivation()\n",
       "          )\n",
       "          (output_layer_norm): LayerNorm((768,), eps=1e-12, elementwise_affine=True)\n",
       "        )\n",
       "      )\n",
       "    )\n",
       "  )\n",
       "  (pre_classifier): Linear(in_features=768, out_features=768, bias=True)\n",
       "  (classifier): Linear(in_features=768, out_features=5, bias=True)\n",
       "  (dropout): Dropout(p=0.2, inplace=False)\n",
       ")"
      ]
     },
     "execution_count": 23,
     "metadata": {},
     "output_type": "execute_result"
    }
   ],
   "source": [
    "num_train_steps = math.ceil(len(train_dl.dataset) / batch_size) * epochs\n",
    "print(num_train_steps)\n",
    "\n",
    "lr_scheduler = get_scheduler(\n",
    "    'linear',\n",
    "    optimizer=optimizer,\n",
    "    num_warmup_steps=0,\n",
    "    num_training_steps=num_train_steps\n",
    ")\n",
    "model.to(device)"
   ]
  },
  {
   "cell_type": "markdown",
   "metadata": {},
   "source": [
    "### Training Code with runninng loss calculation"
   ]
  },
  {
   "cell_type": "code",
   "execution_count": 24,
   "metadata": {},
   "outputs": [],
   "source": [
    "def train_epoch(model, train_dl, optimizer, epoch, device, lr_scheduler=None):\n",
    "    \"\"\"\n",
    "    Train the model for one epoch.\n",
    "    Parameters:\n",
    "    - model: The model to train.\n",
    "    - train_dl: The training DataLoader.\n",
    "    - optimizer: The optimizer to use for training.\n",
    "    - epoch: The current epoch number.\n",
    "    - device: The device to run the training on.\n",
    "    - lr_scheduler: The learning rate scheduler to use.\n",
    "    Returns:\n",
    "    - float: The average loss for the epoch.\n",
    "    \"\"\"\n",
    "\n",
    "    model.train()\n",
    "    metric_monitor = MetricMonitor()\n",
    "    stream = tqdm(enumerate(train_dl, start=1), total=len(train_dl))\n",
    "    for i, batch in stream:\n",
    "        batch = {k: v.to(device) for k, v in batch.items()}\n",
    "        outputs = model(**batch)\n",
    "        loss = outputs.loss\n",
    "\n",
    "        metric_monitor.update(loss=loss.item())\n",
    "\n",
    "        y_pred = torch.argmax(outputs.logits, dim=-1).to('cpu')\n",
    "        metrics = compute_metrics(y_pred, batch['labels'].to('cpu'))\n",
    "        metric_monitor.update(**metrics)\n",
    "        \n",
    "        optimizer.zero_grad()\n",
    "        loss.backward()\n",
    "        optimizer.step()\n",
    "        if lr_scheduler is not None:\n",
    "            lr_scheduler.step()\n",
    "\n",
    "        stream.set_description(\n",
    "            (\n",
    "                f\"Epoch: {epoch+1} - Training loss: {metric_monitor.getinfo()['loss']['avg']:.4f}\"\n",
    "            )\n",
    "        )\n",
    "\n",
    "    return metric_monitor"
   ]
  },
  {
   "cell_type": "code",
   "execution_count": 25,
   "metadata": {},
   "outputs": [],
   "source": [
    "def evaluate(model, val_dl, device):\n",
    "    \"\"\"\n",
    "    Evaluate the model on the validation set.\n",
    "    Parameters:\n",
    "    - model: The model to evaluate.\n",
    "    - val_dl: The validation DataLoader.\n",
    "    - device: The device to run the evaluation on.\n",
    "    Returns:\n",
    "    - dict: A dictionary containing the evaluation metrics.\n",
    "    \"\"\"\n",
    "\n",
    "    model.eval()\n",
    "    metric_monitor = MetricMonitor()\n",
    "    stream = tqdm(enumerate(val_dl, start=1), total=len(val_dl))\n",
    "    for i, batch in stream:\n",
    "        batch = {k: v.to(device) for k, v in batch.items()}\n",
    "        with torch.no_grad():\n",
    "            outputs = model(**batch)\n",
    "            loss = outputs.loss\n",
    "\n",
    "        metric_monitor.update(loss=loss.item())\n",
    "        y_pred = torch.argmax(outputs.logits, dim=-1).to('cpu')\n",
    "        metrics = compute_metrics(y_pred, batch['labels'].to('cpu'))\n",
    "        metric_monitor.update(**metrics)\n",
    "\n",
    "        stream.set_description(\n",
    "            (\n",
    "                f\"Validation loss: {metric_monitor.getinfo()['loss']['avg']:.4f}\"\n",
    "            )\n",
    "        )\n",
    "\n",
    "    return metric_monitor"
   ]
  },
  {
   "cell_type": "code",
   "execution_count": 26,
   "metadata": {},
   "outputs": [
    {
     "name": "stderr",
     "output_type": "stream",
     "text": [
      "huggingface/tokenizers: The current process just got forked, after parallelism has already been used. Disabling parallelism to avoid deadlocks...\n",
      "To disable this warning, you can either:\n",
      "\t- Avoid using `tokenizers` before the fork if possible\n",
      "\t- Explicitly set the environment variable TOKENIZERS_PARALLELISM=(true | false)\n"
     ]
    },
    {
     "data": {
      "application/vnd.jupyter.widget-view+json": {
       "model_id": "c7ce4c8570d644849911ace4a95f31ff",
       "version_major": 2,
       "version_minor": 0
      },
      "text/plain": [
       "  0%|          | 0/625 [00:00<?, ?it/s]"
      ]
     },
     "metadata": {},
     "output_type": "display_data"
    },
    {
     "data": {
      "application/vnd.jupyter.widget-view+json": {
       "model_id": "86f1da2f73cf4e78921580d828812f82",
       "version_major": 2,
       "version_minor": 0
      },
      "text/plain": [
       "  0%|          | 0/125 [00:00<?, ?it/s]"
      ]
     },
     "metadata": {},
     "output_type": "display_data"
    },
    {
     "name": "stdout",
     "output_type": "stream",
     "text": [
      "Epoch: 1/2 - Training loss: 0.5555 - Training F1 Score: 0.7864\n",
      "Epoch: 1/2 - Validation loss: 0.4251 - Validation F1 Score: 0.8383\n"
     ]
    },
    {
     "data": {
      "application/vnd.jupyter.widget-view+json": {
       "model_id": "2801e039c8de4f3ba978fce3640cbeb7",
       "version_major": 2,
       "version_minor": 0
      },
      "text/plain": [
       "  0%|          | 0/625 [00:00<?, ?it/s]"
      ]
     },
     "metadata": {},
     "output_type": "display_data"
    },
    {
     "data": {
      "application/vnd.jupyter.widget-view+json": {
       "model_id": "d362462cb602443ebaedb78ec0695d03",
       "version_major": 2,
       "version_minor": 0
      },
      "text/plain": [
       "  0%|          | 0/125 [00:00<?, ?it/s]"
      ]
     },
     "metadata": {},
     "output_type": "display_data"
    },
    {
     "name": "stdout",
     "output_type": "stream",
     "text": [
      "Epoch: 2/2 - Training loss: 0.3121 - Training F1 Score: 0.8860\n",
      "Epoch: 2/2 - Validation loss: 0.4002 - Validation F1 Score: 0.8445\n"
     ]
    }
   ],
   "source": [
    "for epoch in range(epochs):\n",
    "    train_metrics = train_epoch(model, train_dl, optimizer, epoch, device, lr_scheduler=lr_scheduler)\n",
    "    val_metrics = evaluate(model, val_dl, device)\n",
    "    print(f\"Epoch: {epoch+1}/{epochs} - Training loss: {train_metrics.getinfo()['loss']['avg']:.4f} - Training F1 Score: {train_metrics.getinfo()['f1']['avg']:.4f}\")\n",
    "    print(f\"Epoch: {epoch+1}/{epochs} - Validation loss: {val_metrics.getinfo()['loss']['avg']:.4f} - Validation F1 Score: {val_metrics.getinfo()['f1']['avg']:.4f}\")"
   ]
  },
  {
   "cell_type": "markdown",
   "metadata": {},
   "source": [
    "### Performance on Test Data"
   ]
  },
  {
   "cell_type": "code",
   "execution_count": 27,
   "metadata": {},
   "outputs": [
    {
     "data": {
      "application/vnd.jupyter.widget-view+json": {
       "model_id": "4dd6ebdbbe854f1f9ab4aaa393a03f3d",
       "version_major": 2,
       "version_minor": 0
      },
      "text/plain": [
       "  0%|          | 0/125 [00:00<?, ?it/s]"
      ]
     },
     "metadata": {},
     "output_type": "display_data"
    },
    {
     "name": "stdout",
     "output_type": "stream",
     "text": [
      "Test loss: 0.4405 - Test F1 Score: 0.8520\n"
     ]
    }
   ],
   "source": [
    "test_metrics = MetricMonitor()\n",
    "test_dl = load_dataloader(tokenized_test, split='test', batch_size=batch_size)\n",
    "stream = tqdm(enumerate(test_dl, start=1), total=len(test_dl))\n",
    "for i, batch in stream:\n",
    "    batch = {k: v.to(device) for k, v in batch.items()}\n",
    "    with torch.no_grad():\n",
    "        output = model(**batch)\n",
    "    y_pred = torch.argmax(output.logits, dim=-1).to('cpu')\n",
    "    metrics = compute_metrics(y_pred, batch['labels'].to('cpu'))\n",
    "    test_metrics.update(**metrics)\n",
    "    test_metrics.update(loss=output.loss.item())\n",
    "\n",
    "print(f\"Test loss: {test_metrics.getinfo()['loss']['avg']:.4f} - Test F1 Score: {test_metrics.getinfo()['f1']['avg']:.4f}\")"
   ]
  },
  {
   "cell_type": "code",
   "execution_count": 28,
   "metadata": {},
   "outputs": [
    {
     "name": "stdout",
     "output_type": "stream",
     "text": [
      "models/distilbert_abstracts.pth\n"
     ]
    }
   ],
   "source": [
    "out_dir = \"models\"\n",
    "if not os.path.exists(out_dir):\n",
    "    os.makedirs(out_dir)\n",
    "\n",
    "out_file = 'distilbert_abstracts.pth'\n",
    "out_path = os.path.join(out_dir,out_file)\n",
    "print((out_path))"
   ]
  },
  {
   "cell_type": "code",
   "execution_count": 29,
   "metadata": {},
   "outputs": [],
   "source": [
    "model.save_pretrained(out_path)"
   ]
  },
  {
   "cell_type": "code",
   "execution_count": null,
   "metadata": {},
   "outputs": [],
   "source": []
  }
 ],
 "metadata": {
  "kernelspec": {
   "display_name": "venv-text",
   "language": "python",
   "name": "python3"
  },
  "language_info": {
   "codemirror_mode": {
    "name": "ipython",
    "version": 3
   },
   "file_extension": ".py",
   "mimetype": "text/x-python",
   "name": "python",
   "nbconvert_exporter": "python",
   "pygments_lexer": "ipython3",
   "version": "3.9.6"
  }
 },
 "nbformat": 4,
 "nbformat_minor": 2
}
